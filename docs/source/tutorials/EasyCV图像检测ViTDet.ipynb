{
 "cells": [
  {
   "cell_type": "markdown",
   "id": "2f669eac-7d21-4647-9a78-3cdaaef0de88",
   "metadata": {},
   "source": [
    "# EasyCV图像检测-ViTDet\n",
    "本文将以[ViTDet](https://arxiv.org/abs/2203.16527)模型为例，介绍如何基于easyCV，和mmdet兼容进行目标检测模型训练和预测"
   ]
  },
  {
   "cell_type": "markdown",
   "id": "ed0d2eba-5b7f-4bab-aec6-de9b29fc4c00",
   "metadata": {
    "jp-MarkdownHeadingCollapsed": true,
    "tags": []
   },
   "source": [
    "## 运行环境要求\n",
    "\n",
    "PAI-Pytorch镜像 or 原生Pytorch1.5+以上环境 GPU机器， 内存32G以上"
   ]
  },
  {
   "cell_type": "markdown",
   "id": "b6507334-07ad-400a-9e10-1a8176108b7f",
   "metadata": {
    "jp-MarkdownHeadingCollapsed": true,
    "tags": []
   },
   "source": [
    "## 安装依赖包\n",
    "\n",
    "注: 在PAI-DSW docker中无需安装相关依赖，可跳过此部分 在本地notebook环境中执行\n"
   ]
  },
  {
   "cell_type": "markdown",
   "id": "8c5788b0-524b-4cf7-9628-aae6ac44f462",
   "metadata": {},
   "source": [
    "1、 首先，安装pytorch和对应版本的torchvision，支持Pytorch1.5.1以上版本"
   ]
  },
  {
   "cell_type": "code",
   "execution_count": null,
   "id": "101d0cd7-64be-4234-b028-0c2f37714ac9",
   "metadata": {
    "tags": []
   },
   "outputs": [],
   "source": [
    "# install pytorch and torch vision\n",
    "! conda install pytorch==1.8.0 torchvision==0.9.0 torchaudio==0.8.0 cudatoolkit=10.2 -c pytorch （根据cuda版本调整，详细可参考https://pytorch.org/get-started/previous-versions/）"
   ]
  },
  {
   "cell_type": "markdown",
   "id": "668ce563-9c7e-4c33-8600-be715f73c1d6",
   "metadata": {
    "jp-MarkdownHeadingCollapsed": true,
    "tags": []
   },
   "source": [
    "2、 获取torch和cuda版本，安装对应版本的mmcv和nvidia-dali"
   ]
  },
  {
   "cell_type": "code",
   "execution_count": null,
   "id": "9fa89683-efd7-459f-ae47-aeb304ead4fa",
   "metadata": {
    "jp-MarkdownHeadingCollapsed": true,
    "tags": []
   },
   "outputs": [],
   "source": [
    "import torch\n",
    "import os\n",
    "os.environ['CUDA']='cu' + torch.version.cuda.replace('.', '')\n",
    "os.environ['Torch']='torch'+torch.version.__version__.replace('+PAI', '')\n",
    "!echo \"cuda version: $CUDA\"\n",
    "!echo \"pytorch version: $Torch\""
   ]
  },
  {
   "cell_type": "code",
   "execution_count": null,
   "id": "ee4a64b7-1571-43b4-b869-b7d5bbd414ad",
   "metadata": {
    "tags": []
   },
   "outputs": [],
   "source": [
    "# install some python deps\n",
    "! pip install mmcv-full -i https://pypi.tuna.tsinghua.edu.cn/simple （or pip install mmcv-full -f https://download.openmmlab.com/mmcv/dist/{cu_version}/{torch_version}/index.html  需要指定{}内的cuda版本和torch版本）\n",
    "! pip install http://pai-vision-data-hz.oss-cn-zhangjiakou.aliyuncs.com/third_party/nvidia_dali_cuda100-0.25.0-1535750-py3-none-manylinux2014_x86_64.whl"
   ]
  },
  {
   "cell_type": "markdown",
   "id": "374fbe2e-c421-4aaa-a8fd-df625c060ef1",
   "metadata": {
    "jp-MarkdownHeadingCollapsed": true,
    "tags": []
   },
   "source": [
    "3、  安装EasyCV依赖包"
   ]
  },
  {
   "cell_type": "code",
   "execution_count": null,
   "id": "e234b8ce-7a66-44ff-a013-0029c61d7763",
   "metadata": {
    "jp-MarkdownHeadingCollapsed": true,
    "tags": []
   },
   "outputs": [],
   "source": [
    "! pip install onnx -i https://pypi.tuna.tsinghua.edu.cn/simple \n",
    "! pip install mmdet -i https://pypi.tuna.tsinghua.edu.cn/simple \n",
    "! pip install -r requirements.txt -i https://pypi.tuna.tsinghua.edu.cn/simple "
   ]
  },
  {
   "cell_type": "markdown",
   "id": "0aa1172e-c0d3-4b43-9e60-e373a3498af0",
   "metadata": {
    "tags": []
   },
   "source": [
    "4、 简单验证"
   ]
  },
  {
   "cell_type": "code",
   "execution_count": null,
   "id": "ad5ef3ff-1d2e-483e-afb2-1d37bc93e1c9",
   "metadata": {},
   "outputs": [],
   "source": [
    "from easycv.apis import *"
   ]
  },
  {
   "cell_type": "markdown",
   "id": "75ce9cce-173b-4c00-af2e-ac55e0185038",
   "metadata": {
    "jp-MarkdownHeadingCollapsed": true,
    "tags": []
   },
   "source": [
    "## 图像检测模型训练&预测"
   ]
  },
  {
   "cell_type": "markdown",
   "id": "026ac411-d9e5-4cfc-b3bb-52baab3d0dd8",
   "metadata": {},
   "source": [
    "### 数据准备\n",
    "\n",
    "你可以下载[COCO2017](https://cocodataset.org/#download)数据，也可以使用我们提供了示例COCO数据"
   ]
  },
  {
   "cell_type": "code",
   "execution_count": null,
   "id": "1095a6a5-776a-4df4-82e7-547f49edd0ae",
   "metadata": {},
   "outputs": [],
   "source": [
    "! wget http://pai-vision-data-hz.oss-cn-zhangjiakou.aliyuncs.com/data/small_coco_demo/small_coco_demo.tar.gz && tar -zxf small_coco_demo.tar.gz"
   ]
  },
  {
   "cell_type": "markdown",
   "id": "ae6ae669-2ba7-440d-a3fe-4b698d48b031",
   "metadata": {},
   "source": [
    "重命名数据文件，使其和COCO数据格式完全一致"
   ]
  },
  {
   "cell_type": "code",
   "execution_count": null,
   "id": "36eedef5-8a91-421e-aacb-b2f3448f8939",
   "metadata": {},
   "outputs": [],
   "source": [
    "!mkdir -p data/  && mv small_coco_demo data/coco"
   ]
  },
  {
   "cell_type": "markdown",
   "id": "47dbb359-4594-42ab-be8b-7d2be672388e",
   "metadata": {},
   "source": [
    "data/coco格式如下\n",
    "\n",
    "```shell\n",
    "data/coco/\n",
    "├── annotations\n",
    "│   ├── instances_train2017.json\n",
    "│   └── instances_val2017.json\n",
    "├── train2017\n",
    "│   ├── 000000005802.jpg\n",
    "│   ├── 000000060623.jpg\n",
    "│   ├── 000000086408.jpg\n",
    "│   ├── 000000118113.jpg\n",
    "│   ├── 000000184613.jpg\n",
    "│   ├── 000000193271.jpg\n",
    "│   ├── 000000222564.jpg\n",
    "│       ...\n",
    "│   └── 000000574769.jpg\n",
    "└── val2017\n",
    "    ├── 000000006818.jpg\n",
    "    ├── 000000017627.jpg\n",
    "    ├── 000000037777.jpg\n",
    "    ├── 000000087038.jpg\n",
    "    ├── 000000174482.jpg\n",
    "    ├── 000000181666.jpg\n",
    "    ├── 000000184791.jpg\n",
    "    ├── 000000252219.jpg\n",
    "         ...\n",
    "    └── 000000522713.jpg\n",
    "```"
   ]
  },
  {
   "cell_type": "markdown",
   "id": "b9cc2e3f-faf7-4d44-841d-e3d32eaa09b8",
   "metadata": {},
   "source": [
    "### 模型训练和推理"
   ]
  },
  {
   "cell_type": "markdown",
   "id": "b241a92d-eb9b-47d7-83d6-c11fef2292f9",
   "metadata": {},
   "source": [
    "调用EasyCV的ViTDet模型进行训练"
   ]
  },
  {
   "cell_type": "code",
   "execution_count": null,
   "id": "5dfc8556-ae61-4921-9748-d1169b12809a",
   "metadata": {},
   "outputs": [],
   "source": [
    "# 单机8卡（单机8卡需要将update_interval设置成8）\n",
    "! CUDA_VISIBLE_DEVICES=0,1,2,3,4,5,6,7 python -m torch.distributed.launch --nproc_per_node=8 --master_port=29500 tools/train.py configs/detection/vitdet/vitdet_100e.py --work_dir easycv/vitdet --launcher pytorch --fp16\n",
    "# 8机8卡\n",
    "! cp  EasyCV/tools/launch.py ./ && cp EasyCV/tools/train.py ./ && python -m launch --nproc_per_node=8 train configs/detection/vitdet_dlc/vitdet_100e.py --work_dir easycv/vitdet_100e --launcher pytorch --fp16"
   ]
  },
  {
   "cell_type": "markdown",
   "id": "4c63acf1-35ef-478f-949e-9fd45e932ae3",
   "metadata": {},
   "source": [
    "调用EasyCV的ViTDet模型进行推理"
   ]
  },
  {
   "cell_type": "code",
   "execution_count": null,
   "id": "b1fcfaef-dacd-4fd8-9c6a-01d8de66e179",
   "metadata": {
    "scrolled": true,
    "tags": []
   },
   "outputs": [],
   "source": [
    "! CUDA_VISIBLE_DEVICES=0,1,2,3,4,5,6,7 python -m torch.distributed.launch --nproc_per_node=8 --master_port=29500 tools/eval.py configs/detection/vitdet/vitdet_100e.py --work_dir easycv/vitdet --launcher pytorch --fp16 --eval"
   ]
  },
  {
   "cell_type": "markdown",
   "id": "1703f6b6",
   "metadata": {},
   "source": [
    "### 模型导出"
   ]
  },
  {
   "cell_type": "code",
   "execution_count": null,
   "id": "ae830f63",
   "metadata": {},
   "outputs": [],
   "source": [
    "! python tools/export.py configs/detection/vitdet/vitdet_100e.py easycv/vitdet/epoch_100.pth  easycv/vitdet/vitdet_maskrcnn_export.pth"
   ]
  },
  {
   "cell_type": "markdown",
   "id": "78251956-7a06-4b05-a390-259d8cf1a3be",
   "metadata": {},
   "source": [
    "### 模型预测"
   ]
  },
  {
   "cell_type": "code",
   "execution_count": null,
   "id": "9c201d92-159a-46db-b152-573e3aad36c2",
   "metadata": {},
   "outputs": [],
   "source": [
    "from easycv.predictors.detector import TorchViTDetPredictor\n",
    "\n",
    "config_file = 'configs/detection/vitdet/vitdet_100e.py'\n",
    "checkpoint_file = 'https://pai-vision-data-hz.oss-cn-zhangjiakou.aliyuncs.com/EasyCV/modelzoo/detection/vitdet/vit_base/vitdet_maskrcnn_export.pth'\n",
    "img = 'https://pai-vision-data-hz.oss-cn-zhangjiakou.aliyuncs.com/data/demo/demo.jpg'\n",
    "out_file = './result.jpg'\n",
    "vitdet = TorchViTDetPredictor(config_file, checkpoint_file)\n",
    "output = vitdet.predict(img)\n",
    "\n",
    "vitdet.show_result_pyplot(img, output, show=True, out_file=out_file)"
   ]
  }
 ],
 "metadata": {
  "kernelspec": {
   "display_name": "Python 3",
   "language": "python",
   "name": "python3"
  },
  "language_info": {
   "codemirror_mode": {
    "name": "ipython",
    "version": 3
   },
   "file_extension": ".py",
   "mimetype": "text/x-python",
   "name": "python",
   "nbconvert_exporter": "python",
   "pygments_lexer": "ipython3",
   "version": "3.6.12"
  }
 },
 "nbformat": 4,
 "nbformat_minor": 5
}
